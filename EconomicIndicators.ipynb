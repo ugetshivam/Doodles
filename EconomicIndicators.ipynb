{
 "cells": [
  {
   "cell_type": "markdown",
   "metadata": {},
   "source": [
    "# Assignment 4\n",
    "\n",
    "Before working on this assignment please read these instructions fully. In the submission area, you will notice that you can click the link to **Preview the Grading** for each step of the assignment. This is the criteria that will be used for peer grading. Please familiarize yourself with the criteria before beginning the assignment.\n",
    "\n",
    "This assignment requires that you to find **at least** two datasets on the web which are related, and that you visualize these datasets to answer a question with the broad topic of **economic activity or measures** (see below) for the region of **Delhi, National Capital Territory of Delhi, India**, or **India** more broadly.\n",
    "\n",
    "You can merge these datasets with data from different regions if you like! For instance, you might want to compare **Delhi, National Capital Territory of Delhi, India** to Ann Arbor, USA. In that case at least one source file must be about **Delhi, National Capital Territory of Delhi, India**.\n",
    "\n",
    "You are welcome to choose datasets at your discretion, but keep in mind **they will be shared with your peers**, so choose appropriate datasets. Sensitive, confidential, illicit, and proprietary materials are not good choices for datasets for this assignment. You are welcome to upload datasets of your own as well, and link to them using a third party repository such as github, bitbucket, pastebin, etc. Please be aware of the Coursera terms of service with respect to intellectual property.\n",
    "\n",
    "Also, you are welcome to preserve data in its original language, but for the purposes of grading you should provide english translations. You are welcome to provide multiple visuals in different languages if you would like!\n",
    "\n",
    "As this assignment is for the whole course, you must incorporate principles discussed in the first week, such as having as high data-ink ratio (Tufte) and aligning with Cairo’s principles of truth, beauty, function, and insight.\n",
    "\n",
    "Here are the assignment instructions:\n",
    "\n",
    " * State the region and the domain category that your data sets are about (e.g., **Delhi, National Capital Territory of Delhi, India** and **economic activity or measures**).\n",
    " * You must state a question about the domain category and region that you identified as being interesting.\n",
    " * You must provide at least two links to available datasets. These could be links to files such as CSV or Excel files, or links to websites which might have data in tabular form, such as Wikipedia pages.\n",
    " * You must upload an image which addresses the research question you stated. In addition to addressing the question, this visual should follow Cairo's principles of truthfulness, functionality, beauty, and insightfulness.\n",
    " * You must contribute a short (1-2 paragraph) written justification of how your visualization addresses your stated research question.\n",
    "\n",
    "What do we mean by **economic activity or measures**?  For this category you might look at the inputs or outputs to the given economy, or major changes in the economy compared to other regions.\n",
    "\n",
    "## Tips\n",
    "* Wikipedia is an excellent source of data, and I strongly encourage you to explore it for new data sources.\n",
    "* Many governments run open data initiatives at the city, region, and country levels, and these are wonderful resources for localized data sources.\n",
    "* Several international agencies, such as the [United Nations](http://data.un.org/), the [World Bank](http://data.worldbank.org/), the [Global Open Data Index](http://index.okfn.org/place/) are other great places to look for data.\n",
    "* This assignment requires you to convert and clean datafiles. Check out the discussion forums for tips on how to do this from various sources, and share your successes with your fellow students!\n",
    "\n",
    "## Example\n",
    "Looking for an example? Here's what our course assistant put together for the **Ann Arbor, MI, USA** area using **sports and athletics** as the topic. [Example Solution File](./readonly/Assignment4_example.pdf)"
   ]
  },
  {
   "cell_type": "code",
   "execution_count": 1,
   "metadata": {
    "collapsed": true
   },
   "outputs": [],
   "source": [
    "import numpy as np\n",
    "import pandas as pd\n",
    "import matplotlib.pyplot as plt\n",
    "plt.style.use('seaborn-dark')"
   ]
  },
  {
   "cell_type": "code",
   "execution_count": 42,
   "metadata": {
    "collapsed": false
   },
   "outputs": [
    {
     "data": {
      "image/png": "[encoded data removed]",
      "text/plain": [
       "<matplotlib.figure.Figure at 0x7fcebb353e48>"
      ]
     },
     "metadata": {},
     "output_type": "display_data"
    }
   ],
   "source": [
    "df_1 = pd.read_csv(\"gdp.csv\", skiprows = 4)\n",
    "df_1.drop('Country Code',axis = 1, inplace = True)\n",
    "df_1.drop('Indicator Code',axis = 1, inplace = True)\n",
    "df_1.set_index('Country Name', inplace = True)\n",
    "df_1 = df_1[[str(x) for x in range(2015, 2019)]]\n",
    "df_2 = pd.read_csv(\"gni.csv\", skiprows=4)\n",
    "df_2.drop('Country Code',axis = 1, inplace = True)\n",
    "df_2.drop('Indicator Code',axis = 1, inplace = True)\n",
    "df_2.set_index('Country Name', inplace = True)\n",
    "df_2 = df_2[[str(x) for x in range(2015, 2019)]]\n",
    "df_2.dropna(inplace = True)\n",
    "df_1.dropna(inplace = True)\n",
    "gdp = pd.DataFrame(index = df_1.columns, columns = ['India',  'United States', 'China'])\n",
    "gdp['India'] = df_1.loc['India']\n",
    "gdp['United States'] = df_1.loc['United States']\n",
    "gdp['China'] = df_1.loc['China']\n",
    "# gdp = gdp.T\n",
    "gni = pd.DataFrame(index = df_1.columns, columns = ['India',  'United States', 'China'])\n",
    "gni['India'] = df_2.loc['India']\n",
    "gni['United States'] = df_2.loc['United States']\n",
    "gni['China'] = df_2.loc['China']\n",
    "# gdp\n",
    "# gni = gni.T\n",
    "index = np.arange(2015,2019)\n",
    "plt.figure(figsize = (10,8))\n",
    "bar_width = 0.35\n",
    "\n",
    "plt.subplot(131)\n",
    "plt.bar(index - bar_width/2,gdp['India'], bar_width, label = 'GDP')\n",
    "plt.bar(index + bar_width/2, gni['India'], bar_width, label = 'GNI')\n",
    "plt.xticks(index, rotation = 30)\n",
    "plt.ylabel(\"GDP/GNI(Current US $)\")\n",
    "plt.title(\"INDIA\")\n",
    "plt.legend()\n",
    "\n",
    "plt.subplot(132)\n",
    "plt.bar(index - bar_width/2,gdp['United States'], bar_width)\n",
    "plt.bar(index + bar_width/2, gni['United States'], bar_width)\n",
    "plt.xticks(index, rotation = 30)\n",
    "plt.title(\"UNITED STATES\")\n",
    "\n",
    "plt.subplot(133)\n",
    "plt.bar(index - bar_width/2,gdp['China'], bar_width)\n",
    "plt.bar(index + bar_width/2, gni['China'], bar_width)\n",
    "plt.xticks(index, rotation = 30)\n",
    "plt.title(\"CHINA\")\n",
    "\n",
    "plt.show()"
   ]
  },
  {
   "cell_type": "code",
   "execution_count": null,
   "metadata": {
    "collapsed": true
   },
   "outputs": [],
   "source": []
  },
  {
   "cell_type": "code",
   "execution_count": null,
   "metadata": {
    "collapsed": true
   },
   "outputs": [],
   "source": []
  }
 ],
 "metadata": {
  "kernelspec": {
   "display_name": "Python 3",
   "language": "python",
   "name": "python3"
  },
  "language_info": {
   "codemirror_mode": {
    "name": "ipython",
    "version": 3
   },
   "file_extension": ".py",
   "mimetype": "text/x-python",
   "name": "python",
   "nbconvert_exporter": "python",
   "pygments_lexer": "ipython3",
   "version": "3.6.2"
  }
 },
 "nbformat": 4,
 "nbformat_minor": 1
}
